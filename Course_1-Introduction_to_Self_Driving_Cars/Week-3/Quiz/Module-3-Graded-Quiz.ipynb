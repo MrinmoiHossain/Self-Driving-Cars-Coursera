{
 "cells": [
  {
   "cell_type": "markdown",
   "metadata": {},
   "source": [
    "#### 1. Which from the below options is the most ACCURATE and COMPLETE definition of risk in terms of self-driving vehicles?"
   ]
  },
  {
   "cell_type": "markdown",
   "metadata": {},
   "source": [
    "##### Ans: Risk is a probability that an event occurs combined with the severity of the harm that the event can cause"
   ]
  },
  {
   "cell_type": "markdown",
   "metadata": {},
   "source": [
    "#### 2. Which of the following are major components of an autonomous driving system? (Select all that apply)"
   ]
  },
  {
   "cell_type": "markdown",
   "metadata": {},
   "source": [
    "##### Ans: \n",
    "- Control\n",
    "- Perception\n",
    "- Planning"
   ]
  },
  {
   "cell_type": "markdown",
   "metadata": {},
   "source": [
    "#### 3. What are the most common categories of autonomous vehicle hazard sources? (Select all that apply)"
   ]
  },
  {
   "cell_type": "markdown",
   "metadata": {},
   "source": [
    "##### Ans: \n",
    "-  Malicious software\n",
    "-  Electrical and mechanical\n",
    "-  Hardware and software\n",
    "-  Driver inattention\n",
    "-  Perception and planning"
   ]
  },
  {
   "cell_type": "markdown",
   "metadata": {},
   "source": [
    "#### 4. Is the following statement TRUE or FALSE?\n",
    "\n",
    "#### The safety framework to structure safety assessment for autonomous driving defined by NHTSA is MANDATORY to follow."
   ]
  },
  {
   "cell_type": "markdown",
   "metadata": {},
   "source": [
    "##### Ans: FALSE"
   ]
  },
  {
   "cell_type": "markdown",
   "metadata": {},
   "source": [
    "#### 5. Which categories are included in the safety framework to structure safety assessment for autonomous driving defined by NHTSA? (Select all that apply)"
   ]
  },
  {
   "cell_type": "markdown",
   "metadata": {},
   "source": [
    "##### Ans: \n",
    "- Autonomy design\n",
    "- Testing and crash mitigation\n",
    "- Well-organized software development process"
   ]
  },
  {
   "cell_type": "markdown",
   "metadata": {},
   "source": [
    "#### 6. Which actions are needed to be performed in the event of an accident by an autonomous vehicle? (Select all that apply)"
   ]
  },
  {
   "cell_type": "markdown",
   "metadata": {},
   "source": [
    "##### Ans: \n",
    "- Data recording to a black box\n",
    "- Returning car to a safe state\n",
    "- Alerting first responders\n",
    "- Securing fuel pumps"
   ]
  },
  {
   "cell_type": "markdown",
   "metadata": {},
   "source": [
    "#### 7. What are the most common accident scenarios? (Select all that apply)"
   ]
  },
  {
   "cell_type": "markdown",
   "metadata": {},
   "source": [
    "##### Ans: \n",
    "- Road departure\n",
    "- Intersection\n",
    "- Rear-end \n",
    "- Lane change"
   ]
  },
  {
   "cell_type": "markdown",
   "metadata": {},
   "source": [
    "#### 8. What kind of safety system is described by the following definition? This system can be analyzed to define quantifiable safety performance based on critical assessment of various scenarios. "
   ]
  },
  {
   "cell_type": "markdown",
   "metadata": {},
   "source": [
    "##### Ans:  Analytical safety"
   ]
  },
  {
   "cell_type": "markdown",
   "metadata": {},
   "source": [
    "#### 9. According to the report by Rand Corporation, autonomous driving of 8.8 billion miles is required to demonstrate human-level fatality rate of an autonomous vehicle fleet using a 95% Confidence Interval. How many years is required to perform this testing with a fleet of 100 vehicles running 24 hours a day, 7 days a week at an average of 25 miles per hour? Your answer should be an integer. "
   ]
  },
  {
   "cell_type": "markdown",
   "metadata": {},
   "source": [
    "##### Ans: 400"
   ]
  },
  {
   "cell_type": "markdown",
   "metadata": {},
   "source": [
    "#### 10. Question 10\n",
    "\n",
    "#### Given that an autonomous vehicle failure has happened and based on this tree, what is the probability that the failure happened because of Vehicle Control Algorithm Failure OR Inadequate Car Drivers? Please give your answer with the precision of 3 decimal places.\n",
    "\n",
    "#### Please use this probabilistic fault tree for your computation: \n",
    "<a target=\"_blank\" class=\"cml-asset-link\" href=\"https://d3c33hcgiwev3.cloudfront.net/imageAssetProxy.v1/ROaBSgPiEemYdRIT0BhLtg_8bd9d8c48e52760fbacbfc6d87571a94_Probabilistic-Fault-Tree.png?expiry=1556496000000&amp;hmac=Ucx7z9kW2LnOQFB6nBpg-wNmOEQDkewBSjKK6avR_PQ\">Probabilistic Fault Tree.png</a>"
   ]
  },
  {
   "cell_type": "markdown",
   "metadata": {},
   "source": [
    "##### Ans: 0.382"
   ]
  },
  {
   "cell_type": "markdown",
   "metadata": {},
   "source": [
    "#### 11. Given that the autonomous vehicle failure has happened, and based on this tree, what is the probability that the failure happened because of Software Failure AND Extreme Weather Conditions at the same time? Please give your answer with the precision of 3 decimal places.\n",
    "\n",
    "#### Please use the probabilistic fault tree from the previous question for your computation: \n",
    "<a target=\"_blank\" class=\"cml-asset-link\" href=\"https://d3c33hcgiwev3.cloudfront.net/imageAssetProxy.v1/2di0BQPMEemU7w7-EFnPcg_de3105bcb439c10c77727eda75c99e08_Probabilistic-Fault-Tree.png?expiry=1556496000000&amp;hmac=wYvCjQNZjg-K_HOUt9N2OHpdF8GHlRTos0MbUx6Yiz4\">Probabilistic Fault Tree.png</a>"
   ]
  },
  {
   "cell_type": "markdown",
   "metadata": {},
   "source": [
    "##### Ans: 0.00057"
   ]
  },
  {
   "cell_type": "markdown",
   "metadata": {},
   "source": [
    "#### 12. A computer vision algorithm is responsible for extracting meaningful data from the onboard camera. A computer vision failure restricts the vehicle's ability to navigate the environment around it, hence a problem with this system is a serious failure. However, LiDAR and radar sense similar environment data, so a computer vision failure does not leave the vehicle completely blind. A Computer vision algorithm failure can be considered a somewhat severe failure as it decreases vehicle sensing ability and it gets a severity score of 5. This could happen regularly in low light situations, hence the occurrence number is assigned 4. Computer vision algorithm failure is fairly detectable in majority of the situations, so the detectability score is 3.\n",
    "\n",
    "#### What is the risk priority number for a Computer vision algorithm failure according to FMEA and based on the description above? Your answer should be an integer. "
   ]
  },
  {
   "cell_type": "markdown",
   "metadata": {},
   "source": [
    "##### Ans: 60"
   ]
  },
  {
   "cell_type": "markdown",
   "metadata": {},
   "source": [
    "#### 13. There are failures listed below. Which failures should we focus on solving first according to FMEA?"
   ]
  },
  {
   "cell_type": "markdown",
   "metadata": {},
   "source": [
    "##### Ans: Vehicle driving onto a gravel road (risk priority score of 400)"
   ]
  },
  {
   "cell_type": "markdown",
   "metadata": {},
   "source": [
    "#### 14. Which of the following options is the most ACCURATE and COMPLETE definition of functional safety in terms of self-driving vehicles?"
   ]
  },
  {
   "cell_type": "markdown",
   "metadata": {},
   "source": [
    "##### Ans:  Functional safety is the detection of a potentially dangerous condition resulting in the activation of a protective or corrective device or mechanism to prevent hazardous events arising or providing mitigation to reduce the consequence of the hazardous event"
   ]
  },
  {
   "cell_type": "markdown",
   "metadata": {},
   "source": [
    "#### 15. Which of the following standards defines functional safety terms and activities for electrical and electronic systems within motor vehicles?"
   ]
  },
  {
   "cell_type": "markdown",
   "metadata": {},
   "source": [
    "##### Ans: ISO 26262"
   ]
  }
 ],
 "metadata": {
  "kernelspec": {
   "display_name": "Python 3",
   "language": "python",
   "name": "python3"
  },
  "language_info": {
   "codemirror_mode": {
    "name": "ipython",
    "version": 3
   },
   "file_extension": ".py",
   "mimetype": "text/x-python",
   "name": "python",
   "nbconvert_exporter": "python",
   "pygments_lexer": "ipython3",
   "version": "3.6.4"
  }
 },
 "nbformat": 4,
 "nbformat_minor": 2
}
