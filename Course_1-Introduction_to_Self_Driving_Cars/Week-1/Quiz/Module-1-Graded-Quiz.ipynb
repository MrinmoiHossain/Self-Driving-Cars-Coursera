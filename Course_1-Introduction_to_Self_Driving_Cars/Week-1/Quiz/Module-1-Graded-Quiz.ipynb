{
 "cells": [
  {
   "cell_type": "markdown",
   "metadata": {},
   "source": [
    "#### 1. Scenario 1: You’re at home and need to drive to work \n",
    "<img src=\"https://d3c33hcgiwev3.cloudfront.net/imageAssetProxy.v1/cFf2wv_VEei5Kg7DUflKxA_0c3cf763ad1c236f39de794fd3836ac4_Scenario-1-.png?expiry=1551657600000&amp;hmac=HUeQbz7t7s0fDMmd7X1HpraIGWwh8ppQmMaP2uTjjSk\" alt=\"\" >\n",
    "#### During the trip, you will be performing OEDR tasks. Of the tasks below, which of the following is not an example of OEDR?"
   ]
  },
  {
   "cell_type": "markdown",
   "metadata": {},
   "source": [
    "##### Ans: Maintaining a distance to a vehicle ahead"
   ]
  },
  {
   "cell_type": "markdown",
   "metadata": {},
   "source": [
    "#### 2. Which of the following tasks are associated with perception?"
   ]
  },
  {
   "cell_type": "markdown",
   "metadata": {},
   "source": [
    "##### Ans: \n",
    "- Estimating the motion of other vehicles\n",
    "- Identifying road signs"
   ]
  },
  {
   "cell_type": "markdown",
   "metadata": {},
   "source": [
    "#### 3. Before leaving, you decide to check the weather. The forecast states that over the next few days there will be both sun and rain along with some fog. Assuming your vehicle exhibits Level 5 autonomy, which of the following weather conditions can your vehicle operate? "
   ]
  },
  {
   "cell_type": "markdown",
   "metadata": {},
   "source": [
    "##### Ans: \n",
    "- Clear and sunny\n",
    "- Windy heavy rainfall\n",
    "- Heavy Fog\n",
    "- Light rainfall\n",
    "- All of the above"
   ]
  },
  {
   "cell_type": "markdown",
   "metadata": {},
   "source": [
    "#### 4. You enter your autonomous vehicle and it drives your usual route to work. While the vehicle is driving, you decide to take a nap. For which levels of autonomy is this safe? (Select all that apply) "
   ]
  },
  {
   "cell_type": "markdown",
   "metadata": {},
   "source": [
    "##### Ans: \n",
    "- 4\n",
    "- 5"
   ]
  },
  {
   "cell_type": "markdown",
   "metadata": {},
   "source": [
    "#### 5. Scenario 2: (Assume the car is driving on the right-hand side of the road) .\n",
    "\n",
    "#### You’re approaching an all ways stop sign and you want to make a right turn. Your vehicle is denoted in orange. There are 2 pedestrians currently crossing and another vehicle (denoted in green) approaching the stop sign from the left.\n",
    "<img src=\"https://d3c33hcgiwev3.cloudfront.net/imageAssetProxy.v1/nSVh_wIsEemlxxL_ZeRz_A_72eb4a6524fd4bdc645fd94b5cb72c5d_scenario2.png?expiry=1551657600000&amp;hmac=DbBTbcP63G8JAwMEII69tlu7hViE9tWz2-Nb7mQ4Ow0\" alt=\"\" >\n",
    "#### This task involves multiple considerations, which of them are predictive planning? Select all that apply."
   ]
  },
  {
   "cell_type": "markdown",
   "metadata": {},
   "source": [
    "##### Ans: \n",
    "- Wait for the pedestrians to finish crossing before turning\n",
    "- The green car arrives at the stop sign after you and plans to travel straight through the intersection. You choose to move first."
   ]
  },
  {
   "cell_type": "markdown",
   "metadata": {},
   "source": [
    "#### 6. Here are some rules for driving at a stop sign. Which of the following is an appropriate priority ranking?\n",
    "\n",
    "1) For non all-way stop signs, stop at a point where you can see oncoming traffic without blocking the intersection\n",
    "\n",
    "2) If there are pedestrians crossing, stop until they have crossed\n",
    "\n",
    "3) If you reach a stop sign before another vehicle, you should move first if safe"
   ]
  },
  {
   "cell_type": "markdown",
   "metadata": {},
   "source": [
    "##### Ans: 2, 1, 3"
   ]
  },
  {
   "cell_type": "markdown",
   "metadata": {},
   "source": [
    "#### 7. Which of the following are off-road objects? (Select all that apply) "
   ]
  },
  {
   "cell_type": "markdown",
   "metadata": {},
   "source": [
    "##### Ans: \n",
    "- Stop signs\n",
    "- Trees\n",
    "- Curbs"
   ]
  },
  {
   "cell_type": "markdown",
   "metadata": {},
   "source": [
    "#### 8. Suppose your vehicle has lane keeping assistance, which of these objects are relevant for its performance? (Select all that apply) "
   ]
  },
  {
   "cell_type": "markdown",
   "metadata": {},
   "source": [
    "##### Ans: \n",
    "- Road markings\n",
    "- Curbs"
   ]
  },
  {
   "cell_type": "markdown",
   "metadata": {},
   "source": [
    "#### 9. Which of the following sensors are used for the lane keeping assistance? (Select all that apply)"
   ]
  },
  {
   "cell_type": "markdown",
   "metadata": {},
   "source": [
    "##### Ans: \n",
    "- GPS\n",
    "- LIDAR\n",
    "- IMU\n",
    "- Cameras"
   ]
  },
  {
   "cell_type": "markdown",
   "metadata": {},
   "source": [
    "#### 10. Question 10\n",
    "\n",
    "#### Scenario 3: You are on the highway and you see a truck in front of you. Assume the car is driving on the right-hand side of the road. There is also a blue car beside the truck in the other lane.\n",
    "<img src=\"https://d3c33hcgiwev3.cloudfront.net/imageAssetProxy.v1/56-KwiM5Eem9_wqPhE1wLA_35a14834ec369ed72571de0bd0d1d618_car3.png?expiry=1551657600000&amp;hmac=O0uE4n857IANFP2MHT2qDDbk_UmsXCMSho50qRFKbCg\" alt=\"undefined\" >\n",
    "#### Your vehicle follows the truck and maintains a constant distance away. What kind of control is this?"
   ]
  },
  {
   "cell_type": "markdown",
   "metadata": {},
   "source": [
    "##### Ans: Longitudinal"
   ]
  },
  {
   "cell_type": "markdown",
   "metadata": {},
   "source": [
    "#### 11. You decide to change lanes to pass a truck. What kind of decision is this?"
   ]
  },
  {
   "cell_type": "markdown",
   "metadata": {},
   "source": [
    "##### Ans: Short term planning"
   ]
  },
  {
   "cell_type": "markdown",
   "metadata": {},
   "source": [
    "#### 12. Which of the following tasks are rule-based planning? (Select all that apply) "
   ]
  },
  {
   "cell_type": "markdown",
   "metadata": {},
   "source": [
    "##### Ans: \n",
    "- During a lane change, maintain our current speed or accelerate slightly\n",
    "- If there are vehicles directly beside us on the lane, it is unsafe to lane change."
   ]
  },
  {
   "cell_type": "markdown",
   "metadata": {},
   "source": [
    "#### 13. Suppose the blue vehicle suddenly brakes and you decide to abort the lane change. If your vehicle can respond automatically and remain in its own lane, what is the minimum level of autonomy of your vehicle?"
   ]
  },
  {
   "cell_type": "markdown",
   "metadata": {},
   "source": [
    "##### Ans: 3"
   ]
  },
  {
   "cell_type": "markdown",
   "metadata": {},
   "source": [
    "#### 14. The blue vehicle returns to normal speed and you can now safely change lanes. Your car is performing the lane change, what kind of control is this?"
   ]
  },
  {
   "cell_type": "markdown",
   "metadata": {},
   "source": [
    "##### Ans: Lateral"
   ]
  },
  {
   "cell_type": "markdown",
   "metadata": {},
   "source": [
    "#### 15. Scenario 4: You are almost at work but encounter a construction site.\n",
    "\n",
    "#### Assume the car is driving on the right-hand side of the road. Your vehicle is denoted in orange.\n",
    "<img src=\"https://d3c33hcgiwev3.cloudfront.net/imageAssetProxy.v1/Lkgt6ALhEemP8Qpm209XvA_79c26b720063d096708e0eb0007a81eb_Scenario4.png?expiry=1551657600000&amp;hmac=uqYuXE3uD30_3eC4L8mdVAhz-_vVCreW021bvJRX7uA\" alt=\"\">\n",
    "#### You see a construction site where the workers are repaving a road full of potholes. They are using jackhammers which can cause dust clouds.\n",
    "\n",
    "#### You create the following decision tree for getting through the construction site. From the diagram, which of the following decisions should you make? (green is true, red is false) \n",
    "<img src=\"https://d3c33hcgiwev3.cloudfront.net/imageAssetProxy.v1/1mjW6RLgEem6Gg6vVM6M8A_4941e2af70c9a9dcf9e1e559c7920487_c1m1_flowchart.png?expiry=1551657600000&amp;hmac=JvU4rPoiSkl7ns38dQnMYBa_IT6qe-6r_Ow9LcFBBe8\" alt=\"\" >"
   ]
  },
  {
   "cell_type": "markdown",
   "metadata": {},
   "source": [
    "##### Ans: \n",
    "- B (False)\n",
    "- C (True)\n",
    "- E (True)"
   ]
  },
  {
   "cell_type": "markdown",
   "metadata": {},
   "source": [
    "#### 16. Here are a set of rules for making these decisions, arrange them in an appropriate prioritization.\n",
    "\n",
    "1) If there are no vehicles ahead, accelerate to the speed limit\n",
    "\n",
    "2) Drive slowly in construction zones\n",
    "\n",
    "3) If there are pedestrians or workers directly ahead in the current lane, stop\n",
    "\n",
    "4) Yield to merging vehicles, if necessary "
   ]
  },
  {
   "cell_type": "markdown",
   "metadata": {},
   "source": [
    "##### Ans: 3, 4, 2, 1"
   ]
  },
  {
   "cell_type": "markdown",
   "metadata": {},
   "source": [
    "#### 17. Scenario 5: You’re finished work and need to drive back home, but it’s nighttime.\n",
    "\n",
    "#### You plan a new path home on your GPS application to avoid the construction site, what type of planning is this?\n",
    "<img src=\"https://d3c33hcgiwev3.cloudfront.net/imageAssetProxy.v1/cKPUUALiEem5_xLqNrIdUA_9b82b7e729d7cc1f1b67f530dd2305ce_scenario5.jpg?expiry=1551657600000&amp;hmac=eshT5nh0y1lj3RwDO4v103OW6jEoGXzaLT6Ub51mFTQ\" alt=\"\">"
   ]
  },
  {
   "cell_type": "markdown",
   "metadata": {},
   "source": [
    "##### Ans: Long term planning"
   ]
  },
  {
   "cell_type": "markdown",
   "metadata": {},
   "source": [
    "#### 18. Your new path goes through a school zone and you see the school zone sign. You decide to slow down despite there being no pedestrians or children (it’s nighttime). What sort of planning is this?\n",
    "<img src=\"https://d3c33hcgiwev3.cloudfront.net/imageAssetProxy.v1/2_uJaALiEemYdRIT0BhLtg_68e14cbb781c4a94da5a2bba9269c8dc_Q20.png?expiry=1551657600000&amp;hmac=9U1GwyeICij7K-qQr76rojFCepnvmyjqY0e7LwLkvaM\" alt=\"\">"
   ]
  },
  {
   "cell_type": "markdown",
   "metadata": {},
   "source": [
    "##### Ans: Rule based planning"
   ]
  }
 ],
 "metadata": {
  "kernelspec": {
   "display_name": "Python 3",
   "language": "python",
   "name": "python3"
  },
  "language_info": {
   "codemirror_mode": {
    "name": "ipython",
    "version": 3
   },
   "file_extension": ".py",
   "mimetype": "text/x-python",
   "name": "python",
   "nbconvert_exporter": "python",
   "pygments_lexer": "ipython3",
   "version": "3.6.4"
  }
 },
 "nbformat": 4,
 "nbformat_minor": 2
}
