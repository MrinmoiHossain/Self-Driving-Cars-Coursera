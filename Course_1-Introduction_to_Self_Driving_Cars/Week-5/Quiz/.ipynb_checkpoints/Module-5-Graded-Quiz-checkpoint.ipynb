{
 "cells": [
  {
   "cell_type": "markdown",
   "metadata": {},
   "source": [
    "#### 1. What is the order of the following transfer function?\n",
    "<img src=\"https://d3c33hcgiwev3.cloudfront.net/imageAssetProxy.v1/vSf3shHVEem5_xLqNrIdUA_becffbf601906842f4b204409fbd4d7d_Second-order-TF.png?expiry=1557100800000&amp;hmac=aR0pQx3oJyjMkfu54a0dgigwdJaQRixfMhIyKlfcWuA\" alt=\"\" >"
   ]
  },
  {
   "cell_type": "markdown",
   "metadata": {},
   "source": [
    "##### Ans: This is the second order transfer function"
   ]
  },
  {
   "cell_type": "markdown",
   "metadata": {},
   "source": [
    "#### 2. What are the poles and zeros of the following transfer function?\n",
    "<img src=\"https://d3c33hcgiwev3.cloudfront.net/imageAssetProxy.v1/Of55AAP1EemYdRIT0BhLtg_5a0e126e1da988a5ac249d0d571f3167_formula_q3.png?expiry=1557100800000&amp;hmac=vi4arCCda0y-zbXz1utcIlgmkJgSqwpTRI10WjdI5Yo\" alt=\"\">"
   ]
  },
  {
   "cell_type": "markdown",
   "metadata": {},
   "source": [
    "##### Ans: The poles are -3 and 4; the zeros are 2 and -5"
   ]
  },
  {
   "cell_type": "markdown",
   "metadata": {},
   "source": [
    "#### 3. What might be your action as a system control engineer if you need to increase the overshoot of a control loop system? (Select all that apply)"
   ]
  },
  {
   "cell_type": "markdown",
   "metadata": {},
   "source": [
    "##### Ans: \n",
    "- Increase KP\n",
    "- Increase KI"
   ]
  },
  {
   "cell_type": "markdown",
   "metadata": {},
   "source": [
    "#### 4. Recall the Mass-Spring-Damper System example form the video on PID Control. This system is shown in the figure below.\n",
    "<img src=\"https://d3c33hcgiwev3.cloudfront.net/imageAssetProxy.v1/TuleKgPtEem6Pgo4-YwqLg_95ba793f7085af94d0d0794da03b9e2e_image_q5_1.png?expiry=1557100800000&amp;hmac=vJQH6OtqHCazYqZaGBBcj9SDqYBuNP7x1lzX2XX6uMY\" alt=\"\">\n",
    "#### As a system control engineer, you constructed the following closed loop transfer function to represent the Mass-Spring-Damper System. What is the correct transfer function for this closed loop? \n",
    "<img src=\"https://d3c33hcgiwev3.cloudfront.net/imageAssetProxy.v1/W_cyAAPtEem6Pgo4-YwqLg_27304b56592a5affe7674fb6b2fbb21f_image_q5_2.png?expiry=1557100800000&amp;hmac=QnP7Lk9PKu3TN6ywv-wozryX35VrpIm38DI_4E6e2sI\" alt=\"\">"
   ]
  },
  {
   "cell_type": "markdown",
   "metadata": {},
   "source": [
    "##### Ans:  Transformation function 4 \n",
    "<img src=\"https://d3c33hcgiwev3.cloudfront.net/imageAssetProxy.v1/KZTUqwPuEem6Pgo4-YwqLg_53cdb63db45b35fa29f305880e5a7a8c_image_q5_a4.png?expiry=1557100800000&amp;hmac=JX0C7Cx7XarkdjSGcBzonPleNzUkpYocyyS8orAzHS0\" alt=\"\">"
   ]
  },
  {
   "cell_type": "markdown",
   "metadata": {},
   "source": [
    "#### 5. You are given the step response of a few different PID controllers using the same gains for the same first order transfer function. Determine a possible set of controllers that generated these step responses:\n",
    "<img src=\"https://d3c33hcgiwev3.cloudfront.net/imageAssetProxy.v1/X9n52gU_EemP8Qpm209XvA_d6cede3fe2f82d68efe87bf14c86fe0c_Full-Size-Image.png?expiry=1557100800000&amp;hmac=TvHw_6EwmT21p07RCjQMeG6kH_Uegcn_zSNCfNR9wZM\" alt=\"\">"
   ]
  },
  {
   "cell_type": "markdown",
   "metadata": {},
   "source": [
    "##### Ans: 1st response by PD; 2nd response by PID; 3rd response by PI "
   ]
  },
  {
   "cell_type": "markdown",
   "metadata": {},
   "source": [
    "#### 6. What is the output of a typical output of a Longitudinal control module? (Select all that apply)"
   ]
  },
  {
   "cell_type": "markdown",
   "metadata": {},
   "source": [
    "##### Ans: \n",
    "-  Throttle angle\n",
    "- Brake position"
   ]
  },
  {
   "cell_type": "markdown",
   "metadata": {},
   "source": [
    "#### 7. Based on the engine map in the figure below, determine the throttle angle needed to produce 250 ft-lb of torque given that the current engine speed is 3500 RPM.\n",
    "<img src=\"https://d3c33hcgiwev3.cloudfront.net/imageAssetProxy.v1/mmS76QPzEem5_xLqNrIdUA_e9710431182e4b1665301fa8ef7ed47c_image_q10.png?expiry=1557100800000&amp;hmac=hid8PiyaRctRSAuFFOBNvUtCZ6MO-nGGr-vCiUZKSRs\" alt=\"\">"
   ]
  },
  {
   "cell_type": "markdown",
   "metadata": {},
   "source": [
    "##### Ans: 60"
   ]
  },
  {
   "cell_type": "markdown",
   "metadata": {},
   "source": [
    "#### 8. The results of a simulation of the control response to a step change in desired speed of a dynamic vehicle model with a PID controller are shown in the figures below. There are two spikes on these figures: one spike is between 2 and 3 seconds, another spike is between 3 and 4 seconds. What is the reason of these spikes?\n",
    "<img src=\"https://d3c33hcgiwev3.cloudfront.net/imageAssetProxy.v1/X2RongP0EemYdRIT0BhLtg_97b1e6982aabd3a08bd62dd4f71886be_image_q10.png?expiry=1557100800000&amp;hmac=fpGBPh31boYfgNCpMpsk1ZArrMVLqGRYtpWnBoeOc9s\" alt=\"\">"
   ]
  },
  {
   "cell_type": "markdown",
   "metadata": {},
   "source": [
    "##### Ans: Nonlinear engine map"
   ]
  },
  {
   "cell_type": "markdown",
   "metadata": {},
   "source": [
    "#### 9. What type of control system is shown in the figure below?\n",
    "<img src=\"https://d3c33hcgiwev3.cloudfront.net/imageAssetProxy.v1/B207EBIwEem6Gg6vVM6M8A_9ab79030748991a07501b0e1852367b6_Openloop.png?expiry=1557100800000&amp;hmac=183AjwvBXBV4v3liql-007YjRrbF-1vmF801P7GSVzc\" alt=\"\">"
   ]
  },
  {
   "cell_type": "markdown",
   "metadata": {},
   "source": [
    "##### Ans: Feedforward control"
   ]
  },
  {
   "cell_type": "markdown",
   "metadata": {},
   "source": [
    "#### 10.  What types of inaccuracies are corrected by a feedback controller? "
   ]
  },
  {
   "cell_type": "markdown",
   "metadata": {},
   "source": [
    "##### Ans: \n",
    "- Disturbances\n",
    "-  Errors in the plant model"
   ]
  },
  {
   "cell_type": "markdown",
   "metadata": {},
   "source": [
    "#### 11. What assumptions are essential for creation of a longitudinal feedforward input? (Select all that apply)"
   ]
  },
  {
   "cell_type": "markdown",
   "metadata": {},
   "source": [
    "##### Ans: The vehicle is at steady state"
   ]
  },
  {
   "cell_type": "markdown",
   "metadata": {},
   "source": [
    "#### 12. What are the sources of the load torque considered for a longitudinal feedforward look-up table computation? (Select all that apply) "
   ]
  },
  {
   "cell_type": "markdown",
   "metadata": {},
   "source": [
    "##### Ans: \n",
    "- Gravitational resistance\n",
    "- Rolling resistance\n",
    "- Aerodynamic resistance"
   ]
  },
  {
   "cell_type": "markdown",
   "metadata": {},
   "source": [
    "#### 13.  A vehicle is being operated on a highway with the reference velocity of 126 km/h (35 m/s) in gear 4 and it overcomes the total load torque of 300 ft-lb. This vehicle specification includes effective wheel radius of 0.35 m and 4th gear ratio of 2. What throttle angle is required for maintaining the the current speed of the vehicle?\n",
    "\n",
    "#### Please use the below engine map for your computation. \n",
    "<img src=\"https://d3c33hcgiwev3.cloudfront.net/imageAssetProxy.v1/oxuxYgP2Eem5_xLqNrIdUA_4c6ced0e07b09ffbe95e86bf514472a7_image_q9.png?expiry=1557100800000&amp;hmac=mMkPX8nwkQYUHIbSIAt1E5kfDcNr0A-TUTpbRD1-_mI\" alt=\"\">"
   ]
  },
  {
   "cell_type": "markdown",
   "metadata": {},
   "source": [
    "##### Ans: 70"
   ]
  }
 ],
 "metadata": {
  "kernelspec": {
   "display_name": "Python 3",
   "language": "python",
   "name": "python3"
  },
  "language_info": {
   "codemirror_mode": {
    "name": "ipython",
    "version": 3
   },
   "file_extension": ".py",
   "mimetype": "text/x-python",
   "name": "python",
   "nbconvert_exporter": "python",
   "pygments_lexer": "ipython3",
   "version": "3.6.4"
  }
 },
 "nbformat": 4,
 "nbformat_minor": 2
}
